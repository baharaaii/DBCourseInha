{
  "nbformat": 4,
  "nbformat_minor": 0,
  "metadata": {
    "colab": {
      "provenance": [],
      "authorship_tag": "ABX9TyOnQjeRlXZQXH4/j60KZaZs",
      "include_colab_link": true
    },
    "kernelspec": {
      "name": "python3",
      "display_name": "Python 3"
    },
    "language_info": {
      "name": "python"
    }
  },
  "cells": [
    {
      "cell_type": "markdown",
      "metadata": {
        "id": "view-in-github",
        "colab_type": "text"
      },
      "source": [
        "<a href=\"https://colab.research.google.com/github/baharaaii/DBCourseInha/blob/main/Homework_Database.ipynb\" target=\"_parent\"><img src=\"https://colab.research.google.com/assets/colab-badge.svg\" alt=\"Open In Colab\"/></a>"
      ]
    },
    {
      "cell_type": "code",
      "execution_count": 2,
      "metadata": {
        "colab": {
          "base_uri": "https://localhost:8080/",
          "height": 143
        },
        "id": "erHCx9yiU9PM",
        "outputId": "d6eb11c5-a40c-4b36-cc01-0090838ddf57"
      },
      "outputs": [
        {
          "output_type": "error",
          "ename": "IndentationError",
          "evalue": "ignored",
          "traceback": [
            "\u001b[0;36m  File \u001b[0;32m\"<ipython-input-2-7abbc63ec0f2>\"\u001b[0;36m, line \u001b[0;32m8\u001b[0m\n\u001b[0;31m    name,\u001b[0m\n\u001b[0m    ^\u001b[0m\n\u001b[0;31mIndentationError\u001b[0m\u001b[0;31m:\u001b[0m unexpected indent\n"
          ]
        }
      ],
      "source": [
        "#Exercise 1 - Display the status of each student based on the credits they\n",
        "#currently have\n",
        "\n",
        "#I assume that I have a table named 'students' with columns 'ID', 'name',\n",
        "#'dept_name', and 'tot_cred'\n",
        "\n",
        "SELECT\n",
        "    name,\n",
        "    CASE\n",
        "        WHEN tot_cred < 30 THEN 'Freshman'\n",
        "        WHEN tot_cred BETWEEN 30 AND 59 THEN 'Sophomore'\n",
        "        WHEN tot_cred BETWEEN 60 AND 89 THEN 'Junior'\n",
        "        WHEN tot_cred BETWEEN 90 AND 119 THEN 'Senior'\n",
        "        ELSE 'Graduated'\n",
        "    END AS status\n",
        "FROM\n",
        "    students;"
      ]
    },
    {
      "cell_type": "code",
      "source": [
        "#Exercise 2 - Find the number of students with each status\n",
        "\n",
        "#I assume that I have a table named 'students' with columns 'ID', 'name',\n",
        "#'dept_name', and 'tot_cred'\n",
        "\n",
        "SELECT\n",
        "    CASE\n",
        "        WHEN tot_cred < 30 THEN 'Freshman'\n",
        "        WHEN tot_cred BETWEEN 30 AND 59 THEN 'Sophomore'\n",
        "        WHEN tot_cred BETWEEN 60 AND 89 THEN 'Junior'\n",
        "        WHEN tot_cred BETWEEN 90 AND 119 THEN 'Senior'\n",
        "        ELSE 'Graduated'\n",
        "    END AS status,\n",
        "    COUNT(*) AS student_count\n",
        "FROM\n",
        "    students\n",
        "GROUP BY\n",
        "    status;"
      ],
      "metadata": {
        "id": "IeVVUbTuVC0e"
      },
      "execution_count": null,
      "outputs": []
    },
    {
      "cell_type": "code",
      "source": [
        "#Exercise 3.a - Calculating the GPA for each student who have take any\n",
        "#courses in 2008, spring semester\n",
        "\n",
        "#I assume that I have a table named 'students' and a table named 'courses'\n",
        "#with columns 'student_id', 'grade', and 'credits'\n",
        "\n",
        "SELECT\n",
        "    s.name,\n",
        "    SUM(c.grade * c.credits) / SUM(c.max_grade * c.credits) AS gpa\n",
        "FROM\n",
        "    students s\n",
        "JOIN\n",
        "    courses c ON s.ID = c.student_id\n",
        "GROUP BY\n",
        "    s.name;"
      ],
      "metadata": {
        "id": "7eEKrPjKWMjq"
      },
      "execution_count": null,
      "outputs": []
    },
    {
      "cell_type": "code",
      "source": [
        "#Exercise 3.b - Finding the number of students according to category based\n",
        "#on GPA\n",
        "\n",
        "#I assume that I have a table named 'students' and a table named 'courses'\n",
        "#with columns 'student_id', 'grade', and 'credits'\n",
        "\n",
        "SELECT\n",
        "    CASE\n",
        "        WHEN AVG(c.grade * c.credits / c.max_grade * c.credits) BETWEEN 3.75 AND 4.50 THEN 'A'\n",
        "        WHEN AVG(c.grade * c.credits / c.max_grade * c.credits) BETWEEN 3.00 AND 3.75 THEN 'B'\n",
        "        WHEN AVG(c.grade * c.credits / c.max_grade * c.credits) BETWEEN 2.00 AND 3.00 THEN 'C'\n",
        "        WHEN AVG(c.grade * c.credits / c.max_grade * c.credits) BETWEEN 1.50 AND 2.00 THEN 'D'\n",
        "        ELSE 'F'\n",
        "    END AS category,\n",
        "    COUNT(*) AS student_count\n",
        "FROM\n",
        "    students s\n",
        "JOIN\n",
        "    courses c ON s.ID = c.student_id\n",
        "GROUP BY\n",
        "    category;\n"
      ],
      "metadata": {
        "id": "cptyOM2sWgv5"
      },
      "execution_count": 3,
      "outputs": []
    }
  ]
}